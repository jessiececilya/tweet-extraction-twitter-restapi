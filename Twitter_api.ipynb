{
  "nbformat": 4,
  "nbformat_minor": 0,
  "metadata": {
    "colab": {
      "name": "Twitter api",
      "provenance": [],
      "collapsed_sections": []
    },
    "kernelspec": {
      "name": "python3",
      "display_name": "Python 3"
    }
  },
  "cells": [
    {
      "cell_type": "code",
      "metadata": {
        "colab": {
          "base_uri": "https://localhost:8080/"
        },
        "id": "18I02CdfgDLR",
        "outputId": "ac955176-2e6f-4423-c7fd-877d051acddb"
      },
      "source": [
        "\n",
        "\n",
        "def create_headers(bearer_token):\n",
        "    headers = {\"Authorization\": \"Bearer {}\".format(bearer_token)}\n",
        "    return headers\n",
        "\n",
        "\n",
        "def connect_to_endpoint(url, headers):\n",
        "    response = requests.request(\"GET\", url, headers=headers)\n",
        "    print(response.status_code)\n",
        "    if response.status_code != 200:\n",
        "          raise Exception(\n",
        "              \"Request returned an error: {} {}\".format(\n",
        "                  response.status_code, response.text\n",
        "              )\n",
        "          )\n",
        "    return response.json()\n",
        "\n",
        "\n",
        "\n",
        "\n",
        "bearer_token = \"AAAAAAAAAAAAAAAAAAAAAAsDMwEAAAAASInbnrzb%2FCQUHEaFSV6s7GXpYVg%3D98viE7M56oICyqERSROHlKuBeCB62jkfG5Ze8o1ul4QYtyhX0k\"\n",
        "\n",
        "tweet_fields = \"tweet.fields=lang,author_id,created_at\"\n",
        "user_fields = \"user.fields=location\"\n",
        "    # Tweet fields are adjustable.\n",
        "    # Options include:\n",
        "    # attachments, author_id, context_annotations,\n",
        "    # conversation_id, created_at, entities, geo, id,\n",
        "    # in_reply_to_user_id, lang, non_public_metrics, organic_metrics,\n",
        "    # possibly_sensitive, promoted_metrics, public_metrics, referenced_tweets,\n",
        "    # source, text, and withheld\n",
        "ids = \"ids=2244994945\"\n",
        "    # You can adjust ids to include a single Tweets.\n",
        "    # Or you can add to up to 100 comma-separated IDs\n",
        "tweets_url = \"https://api.twitter.com/2/tweets?{}&{}\".format(ids,tweet_fields)\n",
        "users_url = \"https://api.twitter.com/2/users?{}&{}\".format(ids,user_fields)\n",
        "\n",
        "urls= [tweets_url, users_url]\n",
        "headers = create_headers(bearer_token)\n",
        "\n",
        "for url in urls:\n",
        "  json_response = connect_to_endpoint(url, headers)\n",
        "  print(json.dumps(json_response, indent=4, sort_keys=True))\n",
        "    \n",
        "\n",
        "\n"
      ],
      "execution_count": null,
      "outputs": [
        {
          "output_type": "stream",
          "text": [
            "200\n",
            "{\n",
            "    \"data\": [\n",
            "        {\n",
            "            \"author_id\": \"14531749\",\n",
            "            \"created_at\": \"2009-06-19T22:30:26.000Z\",\n",
            "            \"id\": \"2244994945\",\n",
            "            \"lang\": \"en\",\n",
            "            \"text\": \"@twinkiechan I had no trouble realizing how grouchy you were the whole time.  Ces't la vie it made for good video.\"\n",
            "        }\n",
            "    ]\n",
            "}\n",
            "200\n",
            "{\n",
            "    \"data\": [\n",
            "        {\n",
            "            \"id\": \"2244994945\",\n",
            "            \"location\": \"127.0.0.1\",\n",
            "            \"name\": \"Twitter Dev\",\n",
            "            \"username\": \"TwitterDev\"\n",
            "        }\n",
            "    ]\n",
            "}\n"
          ],
          "name": "stdout"
        }
      ]
    },
    {
      "cell_type": "code",
      "metadata": {
        "id": "67vNYyGhD2tz"
      },
      "source": [
        "import requests\n",
        "import os\n",
        "import json\n",
        "import pandas as pd"
      ],
      "execution_count": null,
      "outputs": []
    },
    {
      "cell_type": "code",
      "metadata": {
        "colab": {
          "base_uri": "https://localhost:8080/",
          "height": 114
        },
        "id": "bqM2O1bmnWc5",
        "outputId": "bcab088d-44a6-4deb-b6c6-8a02068e4378"
      },
      "source": [
        "#Convert to df\n",
        "from pandas.io.json import json_normalize\n",
        "a= json.dumps(json_response)\n",
        "x=json.loads(a)\n",
        "df=json_normalize(x['data'])\n",
        "df\n"
      ],
      "execution_count": null,
      "outputs": [
        {
          "output_type": "stream",
          "text": [
            "/usr/local/lib/python3.7/dist-packages/ipykernel_launcher.py:5: FutureWarning: pandas.io.json.json_normalize is deprecated, use pandas.json_normalize instead\n",
            "  \"\"\"\n"
          ],
          "name": "stderr"
        },
        {
          "output_type": "execute_result",
          "data": {
            "text/html": [
              "<div>\n",
              "<style scoped>\n",
              "    .dataframe tbody tr th:only-of-type {\n",
              "        vertical-align: middle;\n",
              "    }\n",
              "\n",
              "    .dataframe tbody tr th {\n",
              "        vertical-align: top;\n",
              "    }\n",
              "\n",
              "    .dataframe thead th {\n",
              "        text-align: right;\n",
              "    }\n",
              "</style>\n",
              "<table border=\"1\" class=\"dataframe\">\n",
              "  <thead>\n",
              "    <tr style=\"text-align: right;\">\n",
              "      <th></th>\n",
              "      <th>location</th>\n",
              "      <th>id</th>\n",
              "      <th>name</th>\n",
              "      <th>username</th>\n",
              "    </tr>\n",
              "  </thead>\n",
              "  <tbody>\n",
              "    <tr>\n",
              "      <th>0</th>\n",
              "      <td>127.0.0.1</td>\n",
              "      <td>2244994945</td>\n",
              "      <td>Twitter Dev</td>\n",
              "      <td>TwitterDev</td>\n",
              "    </tr>\n",
              "  </tbody>\n",
              "</table>\n",
              "</div>"
            ],
            "text/plain": [
              "    location          id         name    username\n",
              "0  127.0.0.1  2244994945  Twitter Dev  TwitterDev"
            ]
          },
          "metadata": {
            "tags": []
          },
          "execution_count": 5
        }
      ]
    },
    {
      "cell_type": "code",
      "metadata": {
        "id": "eZGFgVxonPu_"
      },
      "source": [
        "# To set your environment variables in your terminal run the following line:\n",
        "# export 'BEARER_TOKEN'='<your_bearer_token>'\n",
        "bearer_token = \"AAAAAAAAAAAAAAAAAAAAAAsDMwEAAAAASInbnrzb%2FCQUHEaFSV6s7GXpYVg%3D98viE7M56oICyqERSROHlKuBeCB62jkfG5Ze8o1ul4QYtyhX0k\"\n",
        "#bearer_token = os.environ.get(\"BEARER_TOKEN\")\n",
        "\n",
        "search_url = \"https://api.twitter.com/2/tweets/search/all\"\n",
        "\n",
        "query1= 'CBI -is:retweet'\n",
        "\n",
        "# Optional params: start_time,end_time,since_id,until_id,max_results,next_token,\n",
        "# expansions,tweet.fields,media.fields,poll.fields,place.fields,user.fields\n",
        "query_params = {'query': query1,'tweet.fields': 'author_id,created_at'}"
      ],
      "execution_count": null,
      "outputs": []
    },
    {
      "cell_type": "code",
      "metadata": {
        "id": "bzBmyOdS8bo1"
      },
      "source": [
        "def connect_to_endpoint1(url, headers, params):\n",
        "    response = requests.request(\"GET\", search_url, headers=headers, params=params)\n",
        "    print(response.status_code)\n",
        "    if response.status_code != 200:\n",
        "        raise Exception(response.status_code, response.text)\n",
        "    return response.json()"
      ],
      "execution_count": null,
      "outputs": []
    },
    {
      "cell_type": "code",
      "metadata": {
        "id": "fIVrZKTj87S7"
      },
      "source": [
        "\n",
        "def create_headers(bearer_token):\n",
        "    headers = {\"Authorization\": \"Bearer {}\".format(bearer_token)}\n",
        "    return headers"
      ],
      "execution_count": null,
      "outputs": []
    },
    {
      "cell_type": "code",
      "metadata": {
        "colab": {
          "base_uri": "https://localhost:8080/"
        },
        "id": "R5dhkYuI8orV",
        "outputId": "ca43d98a-fa73-4ac1-a842-4bdb351fc5ab"
      },
      "source": [
        "headers = create_headers(bearer_token)\n",
        "json_response = connect_to_endpoint1(search_url, headers, query_params)\n",
        "print(json.dumps(json_response, indent=4, sort_keys=True))"
      ],
      "execution_count": null,
      "outputs": [
        {
          "output_type": "stream",
          "text": [
            "200\n",
            "{\n",
            "    \"data\": [\n",
            "        {\n",
            "            \"author_id\": \"883287349521563650\",\n",
            "            \"created_at\": \"2021-02-26T00:39:25.000Z\",\n",
            "            \"id\": \"1365099112312369153\",\n",
            "            \"text\": \"@KanganaTeam Kudh to 12 fail ho,,, and rozgar yeh jo 5 gadhe video mein hai woh naho mang rahe,,, aur tumhe pata bhi kaha ho ga,,, CAG, INCOME TAX, CBI, IB, RAILWAY many more,, inke candidates job mag rahe he,, kabhi 12th class se upar bhi uth jawo.\"\n",
            "        },\n",
            "        {\n",
            "            \"author_id\": \"1890626467\",\n",
            "            \"created_at\": \"2021-02-26T00:39:18.000Z\",\n",
            "            \"id\": \"1365099085020225544\",\n",
            "            \"text\": \"Nah. This was the impotency of Pulivendula Pilli, who killed the vision of CBN and pride to be city of Andhra as he Jaffas could not afford its success. \\n\\nJagan mortagaged Amaravathi for his CBI cases. \\n\\nStupids. https://t.co/KPtkjWMOwc\"\n",
            "        },\n",
            "        {\n",
            "            \"author_id\": \"1183541395623206912\",\n",
            "            \"created_at\": \"2021-02-26T00:39:07.000Z\",\n",
            "            \"id\": \"1365099038866079749\",\n",
            "            \"text\": \"gente o CBI masculino vai ser no c\\u00edrculo????????? MEU DEUS?????\"\n",
            "        },\n",
            "        {\n",
            "            \"author_id\": \"89661596\",\n",
            "            \"created_at\": \"2021-02-26T00:36:17.000Z\",\n",
            "            \"id\": \"1365098324135604225\",\n",
            "            \"text\": \"@ExSecular @TheVijayMallya But whether Nirav would be safe in... ? Tihar /CBI barracka might had been better.\"\n",
            "        },\n",
            "        {\n",
            "            \"author_id\": \"1346519638281080832\",\n",
            "            \"created_at\": \"2021-02-26T00:35:50.000Z\",\n",
            "            \"id\": \"1365098211312955397\",\n",
            "            \"text\": \"@mipravindarekar @CMOMaharashtra @AnilDeshmukhNCP @OfficeofUT @Dev_Fadnavis @ChDadaPatil @BJP4Maharashtra @bjp4mumbai @ChitraKWagh @TV9Marathi @abpmajhatv @TheMahaMTB @SakalMediaNews @thodkyaat \\u0938\\u093e\\u0939\\u0947\\u092c \\u0906\\u092a\\u0923 \\u090f\\u0935\\u0922\\u0947 \\u0905\\u0928\\u0941\\u092d\\u0935\\u0940 \\u0930\\u093e\\u091c\\u0915\\u093e\\u0930\\u0923\\u0940 \\u0906\\u0939\\u093e\\u0924..\\u090f\\u0935\\u0922\\u0947 \\u0924\\u0930\\u0940 \\u0906\\u092a\\u0923\\u093e\\u0938 \\u0928\\u0915\\u094d\\u0915\\u0940 \\u0915\\u093e\\u0933\\u0924 \\u0905\\u0938\\u0947\\u0932 \\u0915\\u0940 \\u0915\\u0941\\u0920\\u0932\\u094d\\u092f\\u093e\\u0939\\u0940 \\u0924\\u092a\\u093e\\u0938 \\u091a\\u093e\\u0932\\u0942 \\u0905\\u0938\\u0924\\u093e\\u0928\\u093e \\u092a\\u094b\\u0932\\u093f\\u0938 \\u092e\\u0940\\u0921\\u093f\\u092f\\u093e briefing \\u0926\\u0947\\u0924 \\u0928\\u093e\\u0939\\u0940\\u0924. \\u0906\\u0923\\u093f \\u0935\\u093f\\u0930\\u094b\\u0927\\u0940 \\u092a\\u0915\\u094d\\u0937\\u0928\\u0947\\u0924\\u0947 \\u0905\\u0938\\u0932\\u094d\\u092f\\u093e\\u0928\\u0947 \\u0906\\u092a\\u0932\\u094d\\u092f\\u093e\\u0932\\u093e \\u092e\\u093e\\u0939\\u093f\\u0924\\u0940 \\u092e\\u093f\\u0933\\u0947\\u0932 \\u092a\\u0923 \\u0917\\u094b\\u092a\\u0928\\u0940\\u092f \\u0920\\u0947\\u0935\\u0923\\u094d\\u092f\\u093e\\u0938. CBI \\u0932\\u093e \\u092a\\u0923 \\u092d\\u0947\\u091f\\u093e ni \\u0938\\u093e\\u0902\\u0917\\u093e SSR \\u091a update \\u0926\\u0947\\u0923\\u094d\\u092f\\u093e\\u0938. \\u0928\\u093e\\u0939\\u0940\\u0924\\u0930\\u0940 \\u0924\\u0941\\u092e\\u091a\\u093e PM Care \\u0928\\u093e..\"\n",
            "        },\n",
            "        {\n",
            "            \"author_id\": \"991213981\",\n",
            "            \"created_at\": \"2021-02-26T00:33:31.000Z\",\n",
            "            \"id\": \"1365097629659525124\",\n",
            "            \"text\": \"Good Mewning Pi.. Ch\\u00fac Pi bu\\u1ed5i s\\u00e1ng vui v\\u1ebb ng\\u00e0y m\\u1edbi t\\u1ed1t l\\u00e0nh.. H\\u00f4m qa e k ng\\u1ee7 dc lun ah..3h m\\u1edbi ng\\u1ee7 m\\u00e0 7h th\\u1ee9c r\\u1ed3i cbi v\\u00f4 bv ti\\u1ebfp..hy v\\u1ecdng hnay m\\u1ecdi th\\u1ee9 s\\u1ebd \\u1ed5n..Pi gi\\u1eef g\\u00ecn s\\u1ee9c kh\\u1ecfe nha..h\\u00f4m nay Pi c\\u0169ng ch\\u1ea1y nh\\u00ecu lm ah..h\\u1eb9n ch\\u00fat g\\u1eb7p Pi #MewSuppasit https://t.co/Vp9eBEbTZC\"\n",
            "        },\n",
            "        {\n",
            "            \"author_id\": \"883396918071631873\",\n",
            "            \"created_at\": \"2021-02-26T00:30:49.000Z\",\n",
            "            \"id\": \"1365096950593425411\",\n",
            "            \"text\": \"@jacquep They're not known for .... well anything really, are they (the CBI).\"\n",
            "        },\n",
            "        {\n",
            "            \"author_id\": \"211002286\",\n",
            "            \"created_at\": \"2021-02-26T00:30:05.000Z\",\n",
            "            \"id\": \"1365096766203428866\",\n",
            "            \"text\": \"TEMP 34 |Feelslike 29 |RH 77 % |DWPNT 27 |WND W @ 2.9 mph |GST 4.5 mph |PRES 30.29 inches |CBI -0.1 |TDA Hi 40 Low 23 PCPN 0.00 in. SN 0.00\"\n",
            "        },\n",
            "        {\n",
            "            \"author_id\": \"1305663847794118657\",\n",
            "            \"created_at\": \"2021-02-26T00:21:03.000Z\",\n",
            "            \"id\": \"1365094492714397697\",\n",
            "            \"text\": \"Why girl with ssing on 14th June was 6\\\" shorter than him. Was she real meetu? I don't think so. Meetu di is 5.6\\\" ssing is 5.8 so how come those two have 6\\\" height diff? Watch footage on 14th June again. Why that 14th June looked thin n younger than meetu which appeared with cbi https://t.co/vRSzrZpvV5\"\n",
            "        },\n",
            "        {\n",
            "            \"author_id\": \"1222328149813260289\",\n",
            "            \"created_at\": \"2021-02-26T00:20:05.000Z\",\n",
            "            \"id\": \"1365094248421486593\",\n",
            "            \"text\": \"@airnewsalerts Congratulations CBI \\ud83d\\udc90\"\n",
            "        }\n",
            "    ],\n",
            "    \"meta\": {\n",
            "        \"newest_id\": \"1365099112312369153\",\n",
            "        \"next_token\": \"b26v89c19zqg8o3fosntc5jqrzlxlgu7slr4incinj919\",\n",
            "        \"oldest_id\": \"1365094248421486593\",\n",
            "        \"result_count\": 10\n",
            "    }\n",
            "}\n"
          ],
          "name": "stdout"
        }
      ]
    },
    {
      "cell_type": "code",
      "metadata": {
        "id": "M4hiE5D7804s"
      },
      "source": [
        ""
      ],
      "execution_count": null,
      "outputs": []
    },
    {
      "cell_type": "code",
      "metadata": {
        "id": "dE1NRUfIyC_9"
      },
      "source": [
        ""
      ],
      "execution_count": null,
      "outputs": []
    },
    {
      "cell_type": "code",
      "metadata": {
        "colab": {
          "base_uri": "https://localhost:8080/"
        },
        "id": "Cvk0TPLeyWIS",
        "outputId": "35f907cb-3609-4c75-f0e2-e7eb0b7bc6bd"
      },
      "source": [
        "# CBI results\n",
        "import requests\n",
        "import os\n",
        "import json\n",
        "\n",
        "\n",
        "\n",
        "# To set your environment variables in your terminal run the following line:\n",
        "# export 'BEARER_TOKEN'='<your_bearer_token>'\n",
        "bearer_token = \"AAAAAAAAAAAAAAAAAAAAAAsDMwEAAAAASInbnrzb%2FCQUHEaFSV6s7GXpYVg%3D98viE7M56oICyqERSROHlKuBeCB62jkfG5Ze8o1ul4QYtyhX0k\"\n",
        "\n",
        "# query1= '\"bomb\" lang: en -is:retweet'\n",
        "query1= 'bomb lang: en'\n",
        "\n",
        "search_url = \"https://api.twitter.com/2/tweets/search/all\"\n",
        "\n",
        "# Optional params: start_time,end_time,since_id,until_id,max_results,next_token,\n",
        "# expansions,tweet.fields,media.fields,poll.fields,place.fields,user.fields\n",
        "query_params = {'query': query1,'tweet.fields': 'author_id,created_at,geo', 'expansions': 'author_id', 'user.fields':'location','max_results' : '10', \n",
        "               'next_token': '1jzu9lk96gu5npw0ko1q0zah9cgpboolrk97laxf9hfh','start_time' : '2013-04-15T00:00:00Z', 'end_time': '2013-04-16T00:00:00Z'}\n",
        "\n",
        "def create_headers(bearer_token):\n",
        "    headers = {\"Authorization\": \"Bearer {}\".format(bearer_token)}\n",
        "    return headers\n",
        "\n",
        "\n",
        "def connect_to_endpoint(url, headers, params):\n",
        "    response = requests.request(\"GET\", search_url, headers=headers, params=params)\n",
        "    print(response)\n",
        "    print(response.status_code)\n",
        "    if response.status_code != 200:\n",
        "        raise Exception(response.status_code, response.text)\n",
        "    return response.json()\n",
        "\n",
        "\n",
        "\n",
        "\n",
        "headers = create_headers(bearer_token)\n",
        "#while json_response.next_token\n",
        "json_response = connect_to_endpoint(search_url, headers, query_params)\n",
        "#print(json.dumps(json_response, indent=4, sort_keys=True))"
      ],
      "execution_count": null,
      "outputs": [
        {
          "output_type": "stream",
          "text": [
            "<Response [200]>\n",
            "200\n"
          ],
          "name": "stdout"
        }
      ]
    },
    {
      "cell_type": "code",
      "metadata": {
        "colab": {
          "base_uri": "https://localhost:8080/",
          "height": 103
        },
        "id": "7f7n7AUyyui5",
        "outputId": "abf8d35b-2f91-4021-cc7c-39367878d6c7"
      },
      "source": [
        "import pandas as pd\n",
        "from pandas.io.json import json_normalize\n",
        "a= json.dumps(json_response)\n",
        "x=json.loads(a)\n",
        "df=json_normalize(x['data'])\n",
        "\n",
        "b= json.dumps(x['includes']['users'])\n",
        "y=json.loads(b)\n",
        "df1=json_normalize(y)\n",
        "\n",
        "\n",
        "allresults= pd.merge(df,df1, how='left',left_on='author_id',right_on='id')\n",
        "\n",
        "results=allresults.drop(columns=['id_y'],axis=1)\n",
        "\n",
        "c=json.dumps(x['meta']['next_token'])\n",
        "c"
      ],
      "execution_count": null,
      "outputs": [
        {
          "output_type": "stream",
          "text": [
            "/usr/local/lib/python3.7/dist-packages/ipykernel_launcher.py:5: FutureWarning: pandas.io.json.json_normalize is deprecated, use pandas.json_normalize instead\n",
            "  \"\"\"\n",
            "/usr/local/lib/python3.7/dist-packages/ipykernel_launcher.py:9: FutureWarning: pandas.io.json.json_normalize is deprecated, use pandas.json_normalize instead\n",
            "  if __name__ == '__main__':\n"
          ],
          "name": "stderr"
        },
        {
          "output_type": "execute_result",
          "data": {
            "application/vnd.google.colaboratory.intrinsic+json": {
              "type": "string"
            },
            "text/plain": [
              "'\"1jzu9lk96gu5npw0ko1q0zah9cfma7r08m3lsethz6gt\"'"
            ]
          },
          "metadata": {
            "tags": []
          },
          "execution_count": 20
        }
      ]
    },
    {
      "cell_type": "code",
      "metadata": {
        "id": "g0FyMlBjy2Wk"
      },
      "source": [
        ""
      ],
      "execution_count": null,
      "outputs": []
    },
    {
      "cell_type": "markdown",
      "metadata": {
        "id": "0-m4nXq2FJwd"
      },
      "source": [
        "*** To get next token and total counts ***"
      ]
    },
    {
      "cell_type": "code",
      "metadata": {
        "id": "YMCncLGPFMYc"
      },
      "source": [
        "import requests\n",
        "import json\n",
        "from time import sleep\n",
        "\n",
        "BEARER_TOKEN = \"AAAAAAAAAAAAAAAAAAAAAAsDMwEAAAAASInbnrzb%2FCQUHEaFSV6s7GXpYVg%3D98viE7M56oICyqERSROHlKuBeCB62jkfG5Ze8o1ul4QYtyhX0k\"\n",
        "#META_FILE = \"meta_file1.txt\"\n",
        "#FILE = 'response01.json'\n",
        "\n",
        "#SEARCH_URL = \"https://api.twitter.com/2/tweets/search/recent\"\n",
        "SEARCH_URL = \"https://api.twitter.com/2/tweets/search/all\"\n",
        "\n",
        "# twitter GET request parameters\n",
        "\n",
        "query1= 'bomb lang: en -is: retweet'\n",
        "query_params = {'query': query1,'start_time': '2013-04-15T00:00:00Z', 'end_time': '2013-04-16T00:00:00Z', 'max_results':'500'}\n",
        "query_params\n",
        "\n",
        "def create_headers(bearer_token):\n",
        "    headers = {\"Authorization\": \"Bearer {}\".format(bearer_token)}\n",
        "    return headers\n",
        "\n",
        "def connect_to_endpoint(url, headers, params):\n",
        "    response = requests.request(\"GET\", url, headers=headers,\n",
        "                                params=params)\n",
        "    if response.status_code != 200:\n",
        "        raise Exception(response.status_code, response.text)\n",
        "    return response.json()\n",
        "\n",
        "def get_tweets():\n",
        "    \"\"\"\n",
        "    Pull tweets and and put them in a text file.\n",
        "    # TODO 1: open a new json file when reaches xx mb size/yy tweets.\n",
        "    # TODO 2: upload tweets to Google Sheets document.\n",
        "    :return: None\n",
        "    \"\"\"\n",
        "\n",
        "    headers = create_headers(BEARER_TOKEN)\n",
        "    json_response = connect_to_endpoint(SEARCH_URL, headers,\n",
        "                                        query_params)\n",
        "\n",
        "    # json_file = open(FILE, mode='a')\n",
        "    # json_file.write('{\"data\": [')\n",
        "    # json_file.writelines(json.dumps(json_response[\"data\"])[1:-1])\n",
        "\n",
        "    print(json_response[\"meta\"][\"oldest_id\"] +\n",
        "          \"\\n\" + json_response[\"meta\"][\"newest_id\"] +\n",
        "          \"\\n\" + json_response[\"meta\"][\"next_token\"])\n",
        "\n",
        "    counter = 0\n",
        "    tweets_counter = 0\n",
        "    tweets_counter += json_response[\"meta\"][\"result_count\"]\n",
        "    query_params[\"next_token\"] = json_response[\"meta\"][\"next_token\"]\n",
        "    while query_params[\"next_token\"]:\n",
        "        sleep(2)\n",
        "                \n",
        "        \n",
        "        json_response = connect_to_endpoint(SEARCH_URL, headers,\n",
        "                                            query_params)\n",
        "        tweets_counter += json_response[\"meta\"][\"result_count\"]\n",
        "        counter += 1\n",
        "\n",
        "        # json_file.writelines(\n",
        "        #     \",\" + json.dumps(json_response[\"data\"])[1:-1])\n",
        "        if 'next_token' not in json_response[\"meta\"]:\n",
        "          break\n",
        "        print(\"\\n\" + json_response[\"meta\"][\"next_token\"])\n",
        "\n",
        "        \n",
        "        query_params[\"next_token\"] = json_response[\"meta\"][\"next_token\"]\n",
        "    print(tweets_counter, counter)  \n",
        "    # json_file.writelines(\"]}\")\n",
        "    # json_file.close()\n",
        "\n",
        "if __name__ == \"__main__\":\n",
        "    get_tweets()\n"
      ],
      "execution_count": null,
      "outputs": []
    },
    {
      "cell_type": "code",
      "metadata": {
        "id": "t0UFXmqqFNhy"
      },
      "source": [
        ""
      ],
      "execution_count": null,
      "outputs": []
    },
    {
      "cell_type": "markdown",
      "metadata": {
        "id": "6isFPIMAFQto"
      },
      "source": [
        "*** 125356 258 of bomb on 15 Apr 2013 ***\n"
      ]
    },
    {
      "cell_type": "code",
      "metadata": {
        "id": "aHWgGbFqFWY8"
      },
      "source": [
        ""
      ],
      "execution_count": null,
      "outputs": []
    }
  ]
}